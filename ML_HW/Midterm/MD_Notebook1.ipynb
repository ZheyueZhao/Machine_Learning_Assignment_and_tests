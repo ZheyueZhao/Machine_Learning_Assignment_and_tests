{
 "cells": [
  {
   "cell_type": "markdown",
   "metadata": {},
   "source": [
    "### MidTerm Assignment: notebook 1: Revision"
   ]
  },
  {
   "cell_type": "markdown",
   "metadata": {},
   "source": [
    "\n",
    "<p><font color='red'><b>Given date : March 30</b></font></p>\n",
    "\n",
    "<font color='red'><b>Due date : April 17</b></font>\n"
   ]
  },
  {
   "cell_type": "markdown",
   "metadata": {},
   "source": [
    "#### Total : 10 pts "
   ]
  },
  {
   "cell_type": "markdown",
   "metadata": {
    "collapsed": true
   },
   "source": [
    "#### Question 1.1. Statistical learning: Maximum likelihood (Total 5pts)\n",
    "\n",
    "This exercise contains a pen and paper part and a coding part. You should submit the pen and paper either in lateX or take a picture of your written solution and join it to the Assignment folder. \n",
    "\n",
    "We consider the dataset given below. This dataset was generated from a Gaussian distribution with a given mean $\\mathbf{\\mu} = (\\mu_1, \\mu_2)$ and covariance matrix $\\mathbf{\\Sigma} = \\left[\\begin{array}{cc}\n",
    "\\sigma_1^2 & 0 \\\\\n",
    "0 & \\sigma_2^2\n",
    "\\end{array}\\right]$. We would like to recover the mean and variance from the data. In order to do this, use the following steps:\n",
    "\n",
    "1. Write the general expression for the probability (multivariate (2D) Gaussian with diagonal covariance matrix) to observe a single sample \n",
    "2. We will assume that the samples are independent and identically distributed so that the probability of observing the whole dataset is the product of the probabilties of observing each one of the samples $\\left\\{\\mathbf{x}^{(i)} = (x_1^{(i)}, x_2^{(i)})\\right\\}_{i=1}^N$. Write down this probability\n",
    "3. Take the negative logarithm of this probability\n",
    "4. Once you have taken the logarithm, find the expression for $mu_1, \\mu_2$, $\\sigma_1$ and $\\sigma_2$ by maximizing the probability. "
   ]
  },
  {
   "cell_type": "markdown",
   "metadata": {},
   "source": [
    "1. the probability to observe a single sample is\n",
    "\n",
    "$$ p(x)=\\frac{1}{(2\\pi)^{\\frac{d}{2}}|\\Sigma|^{\\frac{1}{2}}} \\exp \\left( -\\frac{1}{2} (x-\\mu)^\\top \\Sigma^{-1} (x-\\mu) \\right)$$\n",
    "\n",
    "in which $d$ represents the dimension. In this case, $d=2$, and hence\n",
    "\n",
    "$$ p(x)=\\frac{1}{2\\pi\\sigma_1\\sigma_2} \\exp \\left( -\\frac{1}{2} \\left((x_1-\\mu_1)^2/\\sigma_1^2 + (x_2-\\mu_2)^2/\\sigma_2^2\\right) \\right)$$\n",
    "\n",
    "2. the probability of observing the whole dataset is\n",
    "\n",
    "$$p(\\mathbf{x}) = p(x^{(1)}) \\cdot p(x^{(2)}) = \\frac{1}{(2\\pi\\sigma_1\\sigma_2)^2} \\exp \n",
    "\\left( -\\frac{1}{2} \\left((x^{(1)}_1-\\mu_1)^2/\\sigma_1^2 + (x^{(1)}_2-\\mu_2)^2/\\sigma_2^2 + (x^{(2)}_1-\\mu_1)^2/\\sigma_1^2 + (x^{(2)}_2-\\mu_2)^2/\\sigma_2^2\\right) \\right)$$\n",
    "                   \n",
    "3. the negative logarithm of this probability is\n",
    "\n",
    "$$-\\log p(\\mathbf{x}) = 2\\log (2\\pi\\sigma_1\\sigma_2) + \\frac{1}{2} \\left((x^{(1)}_1-\\mu_1)^2/\\sigma_1^2 + (x^{(1)}_2-\\mu_2)^2/\\sigma_2^2 + (x^{(2)}_1-\\mu_1)^2/\\sigma_1^2 + (x^{(2)}_2-\\mu_2)^2/\\sigma_2^2\\right) $$\n",
    "\n",
    "4. to maximize $p(\\mathbf{x})$, it is equivanlent to minimize $-\\log p(\\mathbf{x})$. Take derivative of it,\n",
    "\n",
    "$$\\partial [-\\log p(\\mathbf{x})] / \\partial \\mu_1 = - (x^{(1)}_1-\\mu_1)/\\sigma_1^2 - (x^{(2)}_1-\\mu_1)/\\sigma_1^2 = 0\n",
    "\\rightarrow \\mu_1 = \\frac{x^{(1)}_1+x^{(2)}_1}{2}$$\n",
    "\n",
    "$$\\partial [-\\log p(\\mathbf{x})] / \\partial \\mu_2 = - (x^{(1)}_2-\\mu_2)/\\sigma_2^2 - (x^{(2)}_2-\\mu_2)/\\sigma_2^2 = 0\n",
    "\\rightarrow \\mu_2 = \\frac{x^{(1)}_2+x^{(2)}_2}{2}$$\n",
    "\n",
    "$$\\partial [-\\log p(\\mathbf{x})] / \\partial \\sigma_1 = \\frac{2}{\\sigma_1} - 2(x^{(1)}_1-\\mu_1)^2/\\sigma_1^3 - 2(x^{(2)}_1-\\mu_1)^2/\\sigma_1^3 = 0\n",
    "\\rightarrow \\sigma_1 = \\sqrt{(x^{(1)}_1-\\mu_1)^2+(x^{(2)}_1-\\mu_1)^2}$$\n",
    "\n",
    "$$\\partial [-\\log p(\\mathbf{x})] / \\partial \\sigma_2 = \\frac{2}{\\sigma_2} - 2(x^{(1)}_2-\\mu_2)^2/\\sigma_2^3 - 2(x^{(2)}_2-\\mu_2)^2/\\sigma_2^3 = 0\n",
    "\\rightarrow \\sigma_2 = \\sqrt{(x^{(1)}_2-\\mu_2)^2+(x^{(2)}_2-\\mu_2)^2}$$"
   ]
  },
  {
   "cell_type": "code",
   "execution_count": 2,
   "metadata": {},
   "outputs": [
    {
     "data": {
      "image/png": "[encoded data removed]",
      "text/plain": [
       "<Figure size 432x288 with 1 Axes>"
      ]
     },
     "metadata": {
      "needs_background": "light"
     },
     "output_type": "display_data"
    }
   ],
   "source": [
    "%matplotlib inline\n",
    "import matplotlib.pyplot as plt\n",
    "import numpy as np\n",
    "from scipy.io import loadmat\n",
    "X = loadmat('dataNotebook1_Ex1.mat')['X']\n",
    "\n",
    "plt.scatter(X[:,0], X[:,1])\n",
    "plt.show()"
   ]
  },
  {
   "cell_type": "markdown",
   "metadata": {},
   "source": [
    "5. Once you have you estimates for the parameters of the Gaussian distribution, plot the level lines of that distribution onb top of the points by using the lines below. "
   ]
  },
  {
   "cell_type": "code",
   "execution_count": 3,
   "metadata": {},
   "outputs": [],
   "source": [
    "import matplotlib.pyplot as plt\n",
    "from matplotlib import cm\n",
    "x1 = np.linspace(0, 1.85, 100)\n",
    "x2 = np.linspace(0.25, 2.5, 100)\n",
    "\n",
    "xx1, xx2 = np.meshgrid(x1, x2)\n",
    "\n",
    "from scipy.stats import multivariate_normal\n",
    "\n",
    "xmesh = np.vstack((xx1.flatten(), xx2.flatten())).T\n",
    "\n",
    "mu1 = np.mean(X[:,0])\n",
    "mu2 = np.mean(X[:,1])\n",
    "sigma1 = np.sqrt(np.sum((X[:,0] - mu1)**2))\n",
    "sigma2 = np.sqrt(np.sum((X[:,1] - mu2)**2))\n",
    "sigma = np.zeros((2,2))\n",
    "sigma[0,0] = sigma1**2\n",
    "sigma[1,1] = sigma2**2\n",
    "\n",
    "y = multivariate_normal.pdf(xmesh, mean=[mu1, mu2], cov=sigma)\n"
   ]
  },
  {
   "cell_type": "markdown",
   "metadata": {},
   "source": [
    "#### What you should obtain:"
   ]
  },
  {
   "cell_type": "code",
   "execution_count": 4,
   "metadata": {},
   "outputs": [
    {
     "name": "stderr",
     "output_type": "stream",
     "text": [
      "C:\\Users\\zheyu\\anaconda3\\lib\\site-packages\\ipykernel_launcher.py:2: UserWarning: The following kwargs were not used by contour: 'zdir', 'offset'\n",
      "  \n"
     ]
    },
    {
     "data": {
      "image/png": "[encoded data removed]",
      "text/plain": [
       "<Figure size 432x288 with 1 Axes>"
      ]
     },
     "metadata": {
      "needs_background": "light"
     },
     "output_type": "display_data"
    }
   ],
   "source": [
    "\n",
    "plt.scatter(X[:,0], X[:,1])\n",
    "plt.contourf(xx1, xx2, np.reshape(y, (100, 100)), zdir='z', offset=-0.15, cmap=cm.viridis, alpha=0.5)\n",
    "plt.show()"
   ]
  },
  {
   "cell_type": "markdown",
   "metadata": {
    "collapsed": true
   },
   "source": [
    "#### 1.2. We consider the following linear regression problem. (Total 5pts)"
   ]
  },
  {
   "cell_type": "code",
   "execution_count": 5,
   "metadata": {},
   "outputs": [
    {
     "data": {
      "image/png": "[encoded data removed]",
      "text/plain": [
       "<Figure size 432x288 with 1 Axes>"
      ]
     },
     "metadata": {
      "needs_background": "light"
     },
     "output_type": "display_data"
    }
   ],
   "source": [
    "import numpy as np\n",
    "import matplotlib.pyplot as plt\n",
    "\n",
    "from scipy.io import loadmat\n",
    "X = loadmat('MidTermAssignment_dataEx2.mat')['MidTermAssignment_dataEx2']\n",
    "\n",
    "plt.scatter(X[:,0], X[:,1])\n",
    "plt.show()"
   ]
  },
  {
   "cell_type": "markdown",
   "metadata": {},
   "source": [
    "Solve the $\\ell_2$ regularized linear regression problem __through the normal equations__ (be careful that you have to take the $\\ell_2$regularization into account). Then double-check your solution by comparing it with the regression function from scikit learn. Plot the result below."
   ]
  },
  {
   "cell_type": "code",
   "execution_count": 6,
   "metadata": {},
   "outputs": [
    {
     "data": {
      "text/plain": [
       "[<matplotlib.lines.Line2D at 0x2338e93da08>]"
      ]
     },
     "execution_count": 6,
     "metadata": {},
     "output_type": "execute_result"
    },
    {
     "data": {
      "image/png": "[encoded data removed]",
      "text/plain": [
       "<Figure size 432x288 with 1 Axes>"
      ]
     },
     "metadata": {
      "needs_background": "light"
     },
     "output_type": "display_data"
    }
   ],
   "source": [
    "class l2_regularized_regression:\n",
    "    def __init__(self, alpha=0.1, fit_intercept=False):\n",
    "        self.fit_intercept = False\n",
    "        self.alpha = alpha\n",
    "\n",
    "    def fit(self, X, Y):\n",
    "        if self.fit_intercept:\n",
    "            nX = np.ones((X.shape[0], X.shape[1]+1))\n",
    "            nX[:,:X.shape[1]] = X\n",
    "            X = nX\n",
    "        self.W = np.matmul(np.matmul(X.T, \n",
    "                                     np.linalg.inv(np.matmul(X, X.T) + self.alpha * np.eye(len(X)))), \n",
    "                           Y)\n",
    "        \n",
    "    def predict(self, X):\n",
    "        if self.fit_intercept:\n",
    "            nX = np.ones((X.shape[0], X.shape[1]+1))\n",
    "            nX[:,:X.shape[1]] = X\n",
    "            X = nX\n",
    "        return np.matmul(X, self.W)\n",
    "    \n",
    "model = l2_regularized_regression()\n",
    "model.fit(np.atleast_2d(X[:,0]).T, np.atleast_2d(X[:,1]).T)\n",
    "z = model.predict(np.atleast_2d(X[:,0]).T)\n",
    "plt.scatter(X[:,0], X[:,1])\n",
    "plt.plot(X[:,0], z, 'g')"
   ]
  },
  {
   "cell_type": "code",
   "execution_count": 7,
   "metadata": {},
   "outputs": [
    {
     "data": {
      "text/plain": [
       "[<matplotlib.lines.Line2D at 0x2338e934908>]"
      ]
     },
     "execution_count": 7,
     "metadata": {},
     "output_type": "execute_result"
    },
    {
     "data": {
      "image/png": "[encoded data removed]",
      "text/plain": [
       "<Figure size 432x288 with 1 Axes>"
      ]
     },
     "metadata": {
      "needs_background": "light"
     },
     "output_type": "display_data"
    }
   ],
   "source": [
    "from sklearn.linear_model import Ridge\n",
    "model = Ridge(alpha=0.1, fit_intercept=False)\n",
    "model.fit(np.atleast_2d(X[:,0]).T, np.atleast_2d(X[:,1]).T)\n",
    "z = model.predict(np.atleast_2d(X[:,0]).T)\n",
    "plt.scatter(X[:,0], X[:,1])\n",
    "plt.plot(X[:,0], z, 'g')"
   ]
  },
  {
   "cell_type": "markdown",
   "metadata": {},
   "source": [
    "2.3. __Kernel Ridge regression__. Given the 'Normal Equations' solution to the regularized regression model, we now want to turn the regression model into a formulation over kernels. \n",
    "\n",
    "\n",
    "__2.3.1. Start by showing (one line) that this solution can read as__ \n",
    "\n",
    "$$\\mathbf{\\beta} = \\mathbf{X}^T\\left(\\mathbf{K} + \\lambda\\mathbf{I}_N\\right)^{-1}\\mathbf{t}$$\n",
    "\n",
    "where $\\mathbf{K}$ is the kernel matrix defined from the scalar product of the prototypes, i.e. $\\mathbf{K}_{i,j} = \\kappa(\\mathbf{x}^{(i)}, \\mathbf{x}^{(j)}) = (\\mathbf{x}^{(i)})^T(\\mathbf{x}^{(j)})$. \n",
    "\n",
    "__2.3.2.__ Given this, the classifier can read as $f(\\mathbf{x}) = \\mathbf{\\beta}^T\\mathbf{x} = \\sum_{i=1}^N \\alpha_i \\kappa(\\mathbf{x}, \\mathbf{x}_i)$. What are the $\\alpha$ in this case?\n",
    "\n",
    "__2.3.3.__ We will apply this idea to text data. Using kernels with text data is interesting because it is usually easier to compare documents than to find appropriate features to represent those documents.  The file 'headlines_train.txt' contains a few headlines, some of them being about finance, others being about weather forecasting. Use the first group of lines below to load those lines and their associated targets (1/0).  "
   ]
  },
  {
   "cell_type": "markdown",
   "metadata": {},
   "source": [
    "**2.3.1.** Solve $\\min \\Vert \\mathbf{t} - \\mathbf{\\beta}^\\top \\phi(\\mathbf{X}) \\Vert^2 + \\lambda \\Vert \\mathbf{\\beta} \\Vert_2$ by taking derivatives of it, then we can get $\\mathbf{\\beta} = \\phi^\\top(\\mathbf{X})\\left(\\mathbf{K} + \\lambda\\mathbf{I}_N\\right)^{-1}\\mathbf{t}$\n",
    "\n",
    "**2.3.2.** $f(\\mathbf{x}) = \\mathbf{\\beta}^T \\phi(\\mathbf{x}) = \\sum_{i=1}^N \\left(\\left(\\mathbf{K} + \\lambda\\mathbf{I}_N\\right)^{-1}\\mathbf{t}\\right) \\phi^\\top(\\mathbf{x}_i) \\phi(\\mathbf{x})=\\sum_{i=1}^N \\left(\\left(\\mathbf{K} + \\lambda\\mathbf{I}_N\\right)^{-1}\\mathbf{t}\\right) \\kappa(\\mathbf{x}, \\mathbf{x}_i)$, so $\\alpha_i=\\left(\\mathbf{K} + \\lambda\\mathbf{I}_N\\right)^{-1}\\mathbf{t}$"
   ]
  },
  {
   "cell_type": "code",
   "execution_count": 8,
   "metadata": {},
   "outputs": [],
   "source": [
    "# Start by loading the file using the lines below \n",
    "import numpy as np\n",
    "import codecs\n",
    "f = codecs.open('headlines_train.txt', \"r\", encoding='utf8')\n",
    "lines = f.readlines()\n",
    "f.close()\n",
    "\n",
    "sentences = ['Start']\n",
    "target = [0]\n",
    "\n",
    "for l in np.arange(len(lines)-2):\n",
    "    if l%2 == 0:\n",
    "        lines_tmp = lines[l]\n",
    "        lines_tmp = lines_tmp[:-1]\n",
    "        sentences.append(lines_tmp)\n",
    "        if lines_tmp[-1] == ' ':\n",
    "            target.append(float(lines_tmp[-2]))\n",
    "        else:\n",
    "            target.append(float(lines_tmp[-1]))\n",
    "        \n",
    "sentences = sentences[1:]\n",
    "target = target[1:]"
   ]
  },
  {
   "cell_type": "markdown",
   "metadata": {},
   "source": [
    "__2.3.4.__ Now use the lines below to define the kernel. The kernel is basically built by generating a TF-IDF vector for each sentence and comparing those sentences through a cosine similarity measure. the variable 'kernel' the kernel matrix, i.e. $\\kappa(i,j) = \\frac{\\phi_i^T\\phi_j}{\\|\\phi_i\\|\\|\\phi_j\\|}$ where the $\\phi_i$ encodes the tf-idf vectors. Use the lines below to compute the kernel matrix. "
   ]
  },
  {
   "cell_type": "code",
   "execution_count": 9,
   "metadata": {},
   "outputs": [
    {
     "data": {
      "image/png": "[encoded data removed]",
      "text/plain": [
       "<Figure size 432x288 with 1 Axes>"
      ]
     },
     "metadata": {
      "needs_background": "light"
     },
     "output_type": "display_data"
    }
   ],
   "source": [
    "import numpy as np\n",
    "\n",
    "from sklearn.feature_extraction.text import TfidfVectorizer\n",
    "\n",
    "vect = TfidfVectorizer(max_features=100, stop_words='english',\n",
    "                                 decode_error='ignore')\n",
    "\n",
    "tfidf = vect.fit_transform(sentences)\n",
    "\n",
    "\n",
    "\n",
    "from sklearn.metrics.pairwise import cosine_similarity\n",
    "kernel = cosine_similarity(tfidf)\n",
    "\n",
    "import matplotlib.pyplot as plt\n",
    "plt.imshow(kernel)\n",
    "plt.show()"
   ]
  },
  {
   "cell_type": "markdown",
   "metadata": {},
   "source": [
    "__2.3.4.__ Once you have the kernel matrix, compute the weights $\\alpha$ of the classifier $y(\\mathbf{x}) = \\sum_{i\\in \\mathcal{D}}\\alpha_i \\kappa(\\mathbf{x}, \\mathbf{x}_i)$. "
   ]
  },
  {
   "cell_type": "code",
   "execution_count": 10,
   "metadata": {},
   "outputs": [
    {
     "name": "stdout",
     "output_type": "stream",
     "text": [
      "(64,)\n"
     ]
    }
   ],
   "source": [
    "# compute the alpha weights\n",
    "target = np.array(target)\n",
    "lamb = 0.1\n",
    "alpha = np.matmul(np.linalg.inv(kernel + lamb * np.eye(len(kernel))), target)\n",
    "print(alpha.shape)"
   ]
  },
  {
   "cell_type": "markdown",
   "metadata": {},
   "source": [
    "__2.3.5.__ Now that you have the weights, we want to apply the classifier to a few new headlines. Those headlines are stored in the file 'headlines_test.txt'. Use the lines below to load those sentences and compute their TF-IDF representation. the classifier $y(\\mathbf{x}) = \\sum_{i\\in \\mathcal{D}}\\alpha_i \\kappa(\\mathbf{x}, \\mathbf{x}_i)$ "
   ]
  },
  {
   "cell_type": "code",
   "execution_count": 11,
   "metadata": {},
   "outputs": [],
   "source": [
    "# Start by loading the file using the lines below \n",
    "import numpy as np\n",
    "\n",
    "f = codecs.open('headlines_test.txt', \"r\", encoding='utf8')\n",
    "lines = f.readlines()\n",
    "f.close()\n",
    "\n",
    "sentences_test = ['Start']\n",
    "\n",
    "for l in np.arange(len(lines)):\n",
    "    if l%2 == 0:\n",
    "        lines_tmp = lines[l]\n",
    "        lines_tmp = lines_tmp[:-1]\n",
    "        sentences_test.append(lines_tmp)\n",
    "        \n",
    "sentences_test = sentences_test[1:]\n",
    "\n",
    "tfidf_test = vect.transform(sentences_test)\n",
    "\n",
    "test_F = np.hstack((tfidf_test.todense(), np.zeros((4, 100-np.shape(tfidf_test.todense())[1]))))"
   ]
  },
  {
   "cell_type": "markdown",
   "metadata": {},
   "source": [
    "__2.3.6.__ Once you have the tf-idf representations stored in the matrix test_F (size 4 by 100 features) the value $\\kappa(\\mathbf{x}, \\mathbf{x}_i)$ that you need to get the final classifier $y(\\mathbf{x}) = \\sum_{i\\in \\mathcal{D}}\\alpha_i \\kappa(\\mathbf{x}, \\mathbf{x}_i)$ and hence the target of the new sentences, you need to compute the cosine similarity of the new \"test\" tf-idf vectors with the \"training\" tf-idf vectors which you computed earlier. each of those cosine similarities will give you an entry in $\\kappa(\\mathbf{x}, \\mathbf{x}_i)$ (here $\\mathbf{x}$ denotes any of the fixed test sentences). once you have those similarities, compute the target from your $\\alpha$ values as $t(\\mathbf{x}) = \\sum_{i\\in \\text{train}} \\alpha_i\\kappa(\\mathbf{x}, \\mathbf{x}_i)$. print those targets below. "
   ]
  },
  {
   "cell_type": "code",
   "execution_count": 12,
   "metadata": {},
   "outputs": [
    {
     "name": "stdout",
     "output_type": "stream",
     "text": [
      "[-0.  1.  0.  1.]\n"
     ]
    }
   ],
   "source": [
    "kernel = cosine_similarity(tfidf, test_F)\n",
    "z = np.matmul(alpha, kernel)\n",
    "print(np.round(z))"
   ]
  }
 ],
 "metadata": {
  "kernelspec": {
   "display_name": "Python 3",
   "language": "python",
   "name": "python3"
  },
  "language_info": {
   "codemirror_mode": {
    "name": "ipython",
    "version": 3
   },
   "file_extension": ".py",
   "mimetype": "text/x-python",
   "name": "python",
   "nbconvert_exporter": "python",
   "pygments_lexer": "ipython3",
   "version": "3.7.6"
  }
 },
 "nbformat": 4,
 "nbformat_minor": 2
}
