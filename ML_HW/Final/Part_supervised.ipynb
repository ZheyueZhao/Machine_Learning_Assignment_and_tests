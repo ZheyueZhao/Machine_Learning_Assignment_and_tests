{
 "cells": [
  {
   "cell_type": "markdown",
   "metadata": {},
   "source": [
    "## CSCI-UA 9473 Final Assignment\n",
    "\n",
    "Total: 55pts"
   ]
  },
  {
   "cell_type": "markdown",
   "metadata": {},
   "source": [
    "In this last assignment, you will get to work on each of the learning frameworks that we introduced throughout the course. The assignement is organized in Three main parts.\n",
    "\n",
    "- Supervised Learning\n",
    "- Unsupervised Learning\n",
    "- Reinforcement Learning \n",
    "\n",
    "The Total (final) grade will be computed according to the following rule \n",
    "\n",
    "\n",
    "\n",
    "__if__ Mean(Assignment1,Assignment2,Assignment3)< Assignment4 \n",
    "\n",
    "    \n",
    "    Total grade = 0.25*Mean(Assignment1+Assignment2+Assignment3) + 0.75*Assignment4\n",
    "    \n",
    "__else if__ Mean(Assignment1,Assignment2,Assignment3)> Assignment4 \n",
    "\n",
    "    \n",
    "    Total grade = 0.75*Mean(Assignment1+Assignment2+Assignment3) + 0.25*Assignment4\n",
    "    \n",
    "    "
   ]
  },
  {
   "cell_type": "markdown",
   "metadata": {},
   "source": [
    "### Part I. Supervised Learning (25pts)"
   ]
  },
  {
   "cell_type": "markdown",
   "metadata": {},
   "source": [
    "#### Exercise I.1.1 Regression tree (5pts)\n",
    "\n",
    "Tree based methods are simple methods that can be used in both regression and classification. The idea is to split the space into regions and then approximate the data by taking the mean of the targets from each region. The approach starts by splitting the space into two regions $R_1$ and $R_2$. Each of the two regions is then itself split into two more regions, $R_{11}$, $R_{12}$ such that $R_{11}\\cup R_{12} = R_{1}$ and $R_{21}$, $R_{22}$ such that $R_{21}\\cup R_{22} = R_{2}$. By proceeding like this, we end up with a model of the form\n",
    "\n",
    "$$f(x) = \\sum_{m=1}^M c_m I(x\\in R_m)$$\n",
    "\n",
    "where $I(x\\in R_m)$ is a function that takes the value $1$ when $x$ belongs to the subregion $R_m$ and $0$ otherwise. \n",
    "\n",
    "if we minimize the sum of squares, one can show that the optimal value for the coefficients $c_m$ is the average of the targets from region $R_m$, i.e. \n",
    "\n",
    "$$\\hat{c}_m = \\frac{1}{N_m}\\sum_{x_i\\in R_m} t_i$$\n",
    "\n",
    "Now finding the optimal region separation is more tricky. For this reason, the algorithm usually relies on some greedy procedure. \n",
    "\n",
    "For a splitting value $s$, Let $R_1(j,s)$ and $R_2(j,s)$ denote the regions we want to get (with respect to the coordinate/feature $j$), i.e. $R_1(j,s) = \\left\\{\\mathbf{x}|x_j\\leq s\\right\\} $ and $R_2(j,s) = \\left\\{\\mathbf{x}|x_j>s\\right\\}$.\n",
    "\n",
    "In order to find the optimal value $s$, we solve the following problem\n",
    "\n",
    "$$\\min_{(j,s)} \\left[\\min_{c_1} \\sum_{\\mathbf{x}_i\\in R_1(j,s)} (t_i - c_1)^2 + \\min_{c_2} \\sum_{\\mathbf{x}_i\\in R_2(s,j)} (t_i - c_2)^2\\right]\\quad (*)$$\n",
    "\n",
    "As explained before, we can take $c_1$ and $c_2$ to be the averages of the targets from each region. To determine the split, for convenience, we can take it to happen at one of the points from the training set, $\\mathbf{s} = \\mathbf{x}_i$ for some $i\\in \\mathcal{D}$. From this computing the optimal splitting for the criterion (*) becomes easier as we are left with computing the value of this criterion for $s = \\mathbf{x}_i$ given by any of the points from the training set. And return the value that achieves the minimum.  \n",
    "\n",
    "Consider the dataset below. Compute the Regression tree for this dataset. You can stop when you reach a certain node size (take it to be $2$ for example)"
   ]
  },
  {
   "cell_type": "code",
   "execution_count": 138,
   "metadata": {},
   "outputs": [
    {
     "data": {
      "image/png": "[encoded data removed]",
      "text/plain": [
       "<Figure size 432x288 with 1 Axes>"
      ]
     },
     "metadata": {
      "needs_background": "light"
     },
     "output_type": "display_data"
    }
   ],
   "source": [
    "from scipy.io import loadmat\n",
    "Points1 = loadmat('Points1_ExTree.mat')\n",
    "Points2 = loadmat('Points2_ExTree.mat')\n",
    "Points3 = loadmat('Points3_ExTree.mat')\n",
    "Points4 = loadmat('Points4_ExTree.mat')\n",
    "\n",
    "\n",
    "Points1 = Points1['Points1_ExTree']\n",
    "Points2 = Points2['Points2_ExTree']\n",
    "Points3 = Points3['Points3_ExTree']\n",
    "Points4 = Points4['Points4_ExTree']\n",
    "\n",
    "\n",
    "import matplotlib.pyplot as plt\n",
    "plt.scatter(Points1[:,0], Points1[:,1])\n",
    "plt.scatter(Points2[:,0], Points2[:,1])\n",
    "plt.scatter(Points3[:,0], Points3[:,1])\n",
    "plt.scatter(Points4[:,0], Points4[:,1])\n",
    "plt.show()\n",
    "\n",
    "import numpy as np\n",
    "target_1 = np.ones(np.shape(Points1)[0])+np.random.normal(0, 0.2, np.shape(Points1)[0])\n",
    "target_2 = 2*np.ones(np.shape(Points2)[0])+np.random.normal(0, 0.2, np.shape(Points2)[0])\n",
    "target_3 = 5*np.ones(np.shape(Points3)[0])+np.random.normal(0, 0.2, np.shape(Points3)[0])\n",
    "target_4 = -3*np.ones(np.shape(Points4)[0])+np.random.normal(0, 0.2, np.shape(Points4)[0])\n",
    "\n",
    "plt.show()"
   ]
  },
  {
   "cell_type": "code",
   "execution_count": 139,
   "metadata": {},
   "outputs": [
    {
     "name": "stdout",
     "output_type": "stream",
     "text": [
      "{'sp_Index': 0, 'sp_Value': 0.5408986175115207, 'left': {'sp_Index': 1, 'sp_Value': 0.47956204379562056, 'left': (4.785461825470161, 2), 'right': {'sp_Index': 0, 'sp_Value': 0.7620967741935484, 'left': (5.182841723291186, 1), 'right': (5.331995390208998, 2)}}, 'right': {'sp_Index': 0, 'sp_Value': 0.4602534562211981, 'left': {'sp_Index': 1, 'sp_Value': 0.6197080291970803, 'left': (-3.509460016621807, 1), 'right': {'sp_Index': 0, 'sp_Value': 0.5247695852534562, 'left': (-2.726749465952524, 2), 'right': (-2.995629536128929, 2)}}, 'right': {'sp_Index': 1, 'sp_Value': 0.39781021897810226, 'left': {'sp_Index': 0, 'sp_Value': 0.1284562211981567, 'left': {'sp_Index': 1, 'sp_Value': 0.5408759124087592, 'left': {'sp_Index': 0, 'sp_Value': 0.18836405529953915, 'left': {'sp_Index': 0, 'sp_Value': 0.2574884792626729, 'left': (0.8213184446253656, 2), 'right': (0.7169843987791544, 1)}, 'right': (1.0410615906759861, 1)}, 'right': (1.1616386841031765, 1)}, 'right': (1.2982404418884552, 1)}, 'right': {'sp_Index': 1, 'sp_Value': 0.33649635036496367, 'left': (2.1778395904127352, 1), 'right': {'sp_Index': 0, 'sp_Value': 0.1975806451612903, 'left': (1.9167190248305035, 2), 'right': (1.998788684904833, 1)}}}}}\n"
     ]
    },
    {
     "name": "stderr",
     "output_type": "stream",
     "text": [
      "G:\\anaconda\\lib\\site-packages\\numpy\\core\\fromnumeric.py:3584: RuntimeWarning: Degrees of freedom <= 0 for slice\n",
      "  **kwargs)\n",
      "G:\\anaconda\\lib\\site-packages\\numpy\\core\\_methods.py:186: RuntimeWarning: invalid value encountered in true_divide\n",
      "  arrmean, rcount, out=arrmean, casting='unsafe', subok=False)\n",
      "G:\\anaconda\\lib\\site-packages\\numpy\\core\\_methods.py:209: RuntimeWarning: invalid value encountered in double_scalars\n",
      "  ret = ret.dtype.type(ret / rcount)\n"
     ]
    }
   ],
   "source": [
    "# put your code here\n",
    "Points = np.concatenate((Points1,Points2,Points3,Points4),axis=0)\n",
    "target = np.concatenate((target_1,target_2,target_3,target_4),axis=0)\n",
    "dataset = np.concatenate((Points,target.reshape(target.shape[0],1)),axis=1)\n",
    "\n",
    "def binSplitDataSet(dataSet, feature, value):\n",
    "    \n",
    "    data0 = dataSet[np.nonzero(dataSet[:,feature] > value)[0],:]\n",
    "    data1 = dataSet[np.nonzero(dataSet[:,feature] <= value)[0],:]\n",
    "    return data0,data1\n",
    "\n",
    "def errcal(dataset):\n",
    "    err = np.var(dataset[:,-1])*dataset.shape[0]\n",
    "    return err\n",
    "\n",
    "\n",
    "\n",
    "def chooseBestSplit(dataSet, errType=errcal, stop_size=2):\n",
    "   \n",
    "    \n",
    "    if len(set(dataSet[:,-1].T.tolist())) == 1 or dataSet.shape[0]<=2:\n",
    "        return None, np.mean(dataSet[:,-1]),dataSet.shape[0]\n",
    "    m,n = dataSet.shape\n",
    "    S = errType(dataset)\n",
    "    bestS = float('inf'); bestIndex = 0; bestValue = 0\n",
    "\n",
    "    for featIndex in range(n-1):\n",
    "        for splitVal in set(dataSet[:,featIndex]):\n",
    "            data0, data1 = binSplitDataSet(dataSet, featIndex, splitVal)\n",
    "            newS = errType(data0) + errType(data1)\n",
    "            if newS < bestS: \n",
    "                bestIndex = featIndex\n",
    "                bestValue = splitVal\n",
    "                bestS = newS\n",
    "\n",
    "    data0, data1 = binSplitDataSet(dataSet, bestIndex, bestValue)\n",
    "    return bestIndex,bestValue,dataSet.shape[0]\n",
    "\n",
    "def createTree(dataSet, errType=errcal, stop_size=2):\n",
    "    \n",
    "    feat, val, nodesize = chooseBestSplit(dataSet, errType, stop_size)\n",
    "    if feat == None: return val, nodesize#\n",
    "    retTree = {}\n",
    "    retTree['sp_Index'] = feat\n",
    "    retTree['sp_Value'] = val\n",
    "   \n",
    "    lSet, rSet = binSplitDataSet(dataSet, feat, val)\n",
    "    retTree['left'] = createTree(lSet, errType, stop_size)\n",
    "    retTree['right'] = createTree(rSet,errType, stop_size)\n",
    "    return retTree  \n",
    "reg_tree = createTree(dataset)\n",
    "print(reg_tree)"
   ]
  },
  {
   "cell_type": "markdown",
   "metadata": {},
   "source": [
    "#### Exercise I.1.2. Weakest link (5pts)\n",
    "\n",
    "Once we have built a sufficiently deep tree, we are left with determining whether one cannot reduce the depth of this tree (i.e. how coarse the model can be while still achieving sufficient accuracy). A (too) fine model will obviously lead to overfitting. For any tree, we define the set of leaf nodes (i.e. final set of regions) as $M$. We will use this parameter to encode the complexity of the tree. \n",
    "\n",
    "We can define the error that we make with a particular tree by considering the error on each region and summing those error terms across each region. If we let $R_m$ to denote the (average) error induced by region $R_m$, \n",
    "\n",
    "$$Q_m(T) = \\frac{1}{N_m} \\sum_{x_i\\in R_m} (t_i - \\hat{c}_m)^2$$\n",
    "\n",
    "To account for the complexity of the tree, one can also extend this cost into a loss $\\ell(T)$ which penalize complex trees (with a large number of leaf nodes $M$) as\n",
    "\n",
    "$$\\ell(T) = \\sum_{m=1}^M N_m Q_m(T) + \\alpha M$$\n",
    "\n",
    "We can then look for the optimal tree for any particular value of $\\alpha$. \n",
    "\n",
    "The search for the optimal $\\alpha$ and the associated tree is usually done through a procedure known as _weakest link prunning_ which works as follows \n",
    "\n",
    "For any node other than the leaf nodes, we can study how much of an improvement one can get by deleting the subtree located below the node. To do this, we proceed as follows. For any given subtree, we can define the costs $\\tilde{R}(t) = Q(t) + \\alpha$ and $R(T_t) = Q(T_t) + \\alpha|T_t|$. The first one is the cost of the node $t$ (that is the contribution if we removed the whole subtree below $t$) and the second one is the contribution of the term if we were to keep all the leaf of the subtree. For each node in $T_0$, we can look for the $\\alpha$ at which $R(T_t)>R(t)$. In other words, we look for the value $\\alpha$ such that \n",
    "\n",
    "$$Q(t) + \\alpha < Q(T_t) + \\alpha|T_t|$$\n",
    "\n",
    "This is equivalent to looking for the  $\\alpha$ such that $\\alpha>\\frac{Q(t)-Q(T_t)}{|T_t|-t}$. We can do this for every node $t$. The _weakest link_ $t'$ is then the connection for which the $\\alpha(t')$ is the smallest. If there are multiple nodes achieving the same minimum we remove all the sub-branches associated to those nodes. We define the next subtree by removing the sub-branches for _Weakest link_ $t'$. Let us denote that subtree as $T'$. We then repeat the procedure on $T'$, looking for the nodes with smallest $\\alpha$. The procedure generates a sequence of subtrees $T, T', T''$ with associated values $\\alpha_0, \\alpha_1, \\ldots$. \n",
    "\n",
    "Implement _weakest link prunning_ below. "
   ]
  },
  {
   "cell_type": "code",
   "execution_count": 140,
   "metadata": {
    "scrolled": false
   },
   "outputs": [],
   "source": [
    "import numpy as np\n",
    "def isTree(obj):\n",
    "     # Determine if the input is a tree\n",
    "    return (type(obj).__name__=='dict')\n",
    "def cal_leaf_errcal(tree,data):\n",
    "    if not isTree(tree):return errcal(data),1\n",
    "    lSet, rSet = binSplitDataSet(data, tree['sp_Index'], tree['sp_Value'])\n",
    "    ltree = cal_leaf_errcal(tree['left'],lSet)\n",
    "    rtree = cal_leaf_errcal(tree['right'],rSet)\n",
    "    Q_T = ltree[0]+rtree[0]\n",
    "    num_leaf = ltree[1]+rtree[1]\n",
    "    return Q_T,num_leaf\n",
    "\n",
    "def tree_alp(tree,data):\n",
    "    if not isTree(tree):return float('inf')\n",
    "    Q_t = errcal(data)\n",
    "    tree_info = cal_leaf_errcal(tree,data)\n",
    "    Q_T = tree_info[0]\n",
    "    T_t = tree_info[1]\n",
    "    return (Q_t-Q_T)/(T_t-1)\n",
    "\n",
    "def bfs_min(tree,data):\n",
    "    #Search for the minimum alpha value of the non-leaf nodes in the tree with width first\n",
    "    #Every node is a subtree. This function will return the path of this subtree,this subtree and the alpha value\n",
    "    tree_list = [tree]\n",
    "    path_list = [[]]\n",
    "    min_alpha = float('inf')\n",
    "    while len(tree_list)!=0:\n",
    "        t = tree_list[0]\n",
    "        path = path_list[0]\n",
    "        del tree_list[0]\n",
    "        del path_list[0]\n",
    "        temp_t = tree.copy()\n",
    "        temp_data = data.copy()\n",
    "\n",
    "        for p in path:\n",
    "            ldata, rdata = binSplitDataSet(temp_data, temp_t['sp_Index'], temp_t['sp_Value'])\n",
    "            \n",
    "            if p=='left':\n",
    "                temp_data = ldata\n",
    "                temp_t = temp_t['left']\n",
    "            else:\n",
    "                temp_data = rdata\n",
    "                temp_t = temp_t['right']\n",
    "        alpha = tree_alp(t,temp_data)\n",
    "        if alpha<min_alpha:\n",
    "            min_alpha = alpha\n",
    "            res_path = path\n",
    "            res_t = t\n",
    "\n",
    "        if isTree(t):\n",
    "            tree_list.append(t['left'])\n",
    "            path_list.append(path+['left'])\n",
    "            tree_list.append(t['right'])\n",
    "            path_list.append(path+['right'])\n",
    "    return res_path,res_t,min_alpha\n",
    "        \n",
    "\n",
    "\n",
    "\n",
    "\n",
    "\n",
    "def merge_node(subTree):\n",
    "    # Given the subtree,return the number of samples in this subTree and the mean of this samples\n",
    "    tree = subTree.copy()\n",
    "    if isTree(tree['left']):tree['left'] = merge_node(tree['left'])\n",
    "    if isTree(tree['right']):tree['right'] = merge_node(tree['right'])\n",
    "    if not isTree(tree['left'])and not isTree(tree['right']):\n",
    "        num = tree['left'][1]+tree['right'][1]\n",
    "        avg = (tree['left'][0]*tree['left'][1]+tree['right'][0]*tree['right'][1])/num  \n",
    "    return avg,num\n",
    "\n",
    "\n",
    "def prune(Tree,path):\n",
    "    #Given the tree and the path of subtree,this function will turn the subtree into a node \n",
    "    tree = Tree.copy()\n",
    "    if len(path)==0:return merge_node(tree)\n",
    "    if len(path)==1:tree[path[0]]=merge_node(tree[path[0]])\n",
    "    if len(path)>1:tree[path[0]] = prune(tree[path[0]],path[1:])\n",
    "    return tree\n",
    "\n",
    "\n",
    "def seq_tree(Tree,data):\n",
    "    #return a tree sequence\n",
    "    tree = Tree.copy()\n",
    "    res = [tree]\n",
    "    alpha = [float('inf')]\n",
    "    while isTree(tree):\n",
    "        subtree_path,sub_tree,min_alpha = bfs_min(tree,data)\n",
    "        tree = prune(tree,subtree_path)\n",
    "        alpha.append(min_alpha)\n",
    "        res.append(tree)\n",
    "    return res,alpha    \n",
    "      \n",
    "seq,alpha = seq_tree(reg_tree,dataset)    \n"
   ]
  },
  {
   "cell_type": "markdown",
   "metadata": {},
   "source": [
    "#### Exercise I.1.3. Cross validation (5pts)\n",
    "\n",
    "Given the sequence of subtrees $T_0,T_1, T_2,\\ldots$ and its accompanying sequence of weights $\\alpha_0,\\alpha_1,\\ldots$, one can show that the sequence contains the optimal $\\alpha^*$. To find this $\\alpha^*$, one can use $k$-fold cross validation. \n",
    "\n",
    "Divide the dataset into $K$ bins of size $N/K$. For each of those bins, we will use one bin as our validation/test set and the remaining $K-1$ bins as our training set. \n",
    "\n",
    "1- Using the training set, compute the tree for each of the values of $\\alpha$ obtained above. You don't need to optimize anything as the value on a region is defined as the average of the targets in this region and the number of levels can be set by only retaining those subtrees for which $R_\\alpha(t)>R_{\\alpha}(T_t)$\n",
    "\n",
    "2-Once you have computed all the subtrees, evaluate the prediction error for those subtrees on the set consisting of the remaining $K$ points. The prediction error is just the average target ($c_m$) from the region in which the new points is located minus the true target of this point.\n",
    "\n",
    "And compute the average error as \n",
    "\n",
    "$$E(\\alpha) = \\frac{1}{N}\\sum_{i=1}^N (\\text{prediction}_{T_k(\\alpha)}(\\mathbf{x}_i) - t_i)^2$$\n",
    "\n",
    "where $N$ is the total number of points in the dataset and $\\text{prediction}_{T_k}$ is the prediction obtained on the tree $T_k(\\alpha)$ learned on the set of $N - K$ points to which $\\mathbf{x}_i$ did not belong (i.e. learned without $\\mathbf{x}_i$)\n",
    "\n",
    "\n",
    "Select the $\\alpha$ which gives the smallest error.\n",
    "\n",
    "Take $k$ between $2$ and $4$ and find the optimal $\\alpha$. "
   ]
  },
  {
   "cell_type": "code",
   "execution_count": 142,
   "metadata": {},
   "outputs": [
    {
     "name": "stderr",
     "output_type": "stream",
     "text": [
      "G:\\anaconda\\lib\\site-packages\\numpy\\core\\fromnumeric.py:3584: RuntimeWarning: Degrees of freedom <= 0 for slice\n",
      "  **kwargs)\n",
      "G:\\anaconda\\lib\\site-packages\\numpy\\core\\_methods.py:186: RuntimeWarning: invalid value encountered in true_divide\n",
      "  arrmean, rcount, out=arrmean, casting='unsafe', subok=False)\n",
      "G:\\anaconda\\lib\\site-packages\\numpy\\core\\_methods.py:209: RuntimeWarning: invalid value encountered in double_scalars\n",
      "  ret = ret.dtype.type(ret / rcount)\n"
     ]
    }
   ],
   "source": [
    "# put your code here\n",
    "import random\n",
    "lenth = dataset.shape[0]\n",
    "testindex=random.sample(range(0, lenth),int(lenth/3))\n",
    "trainindex = []\n",
    "for i in range(0,lenth):\n",
    "    if i not in testindex:\n",
    "        trainindex.append(i)\n",
    "traindata = dataset[trainindex]\n",
    "testdata = dataset[testindex]\n",
    "reg_tree = createTree(traindata)\n",
    "seq_train,alpha_train = seq_tree(reg_tree,traindata)  "
   ]
  },
  {
   "cell_type": "code",
   "execution_count": 143,
   "metadata": {
    "scrolled": false
   },
   "outputs": [
    {
     "name": "stdout",
     "output_type": "stream",
     "text": [
      "the optimal αis 67.73200511922114\n"
     ]
    }
   ],
   "source": [
    "def treeForeCast(tree, inData):\n",
    "\n",
    "    # Given a tree , the function return a predicted value for a single data point.\n",
    "    \n",
    "    \n",
    "    if not isTree(tree): return tree[0]\n",
    "    if inData[tree['sp_Index']] > tree['sp_Value']:\n",
    "        if isTree(tree['left']): return treeForeCast(tree['left'], inData)\n",
    "        else: return tree['left'][0]\n",
    "    else:\n",
    "        if isTree(tree['right']): return treeForeCast(tree['right'], inData)\n",
    "        else: return tree['right'][0]\n",
    "def createForeCast(tree, testData):\n",
    "    # Return the predicted value as a vector\n",
    "    m=len(testData)\n",
    "    yHat = np.zeros(m)\n",
    "    for i in range(m):\n",
    "        yHat[i] = treeForeCast(tree, testData[i])\n",
    "    return yHat\n",
    "def error(pre,label):\n",
    "    return np.sum((pre - label)**2)/pre.size\n",
    "min_error = float('inf')\n",
    "\n",
    "for i,train_tree in enumerate(seq_train):\n",
    "    pre = createForeCast(train_tree,testdata)\n",
    "    temp_error = error(pre,testdata[:,-1])\n",
    "    if temp_error<min_error:\n",
    "        min_error = temp_error\n",
    "        opt_index = i\n",
    "print('the optimal αis',alpha_train[i])"
   ]
  },
  {
   "cell_type": "markdown",
   "metadata": {
    "collapsed": true
   },
   "source": [
    "#### Exercise I.2. Bias-Variance (10pts)\n",
    "\n",
    "In this exercise, we will study the decomposition of the prediction error into the bias and variance contribution for a simple regression model. For a given learning model, the prediction error can read as\n",
    "\n",
    "$$\\mathbb{E}\\left\\{(f(\\mathbf{x},\\theta)) - t(\\mathbf{x}))^2\\right\\}$$\n",
    "\n",
    "After some calculation, this expression can reduce to\n",
    "\n",
    "$$\\mathbb{E}_D\\left\\{(f_D(\\mathbf{x},\\theta)) - t(\\mathbf{x}))^2\\right\\} = \\left(\\mathbb{E}\\left\\{f_d(\\mathbf{x}, \\theta)\\right\\} - t(\\mathbf{x})\\right)^2 + \\mathbb{E}_D\\left\\{\\left(f_D(\\mathbf{x}; \\theta) - \\mathbb{E}_D\\left\\{f_D(\\mathbf{x}, \\theta)\\right\\}\\right)^2\\right\\}$$\n",
    "\n",
    "In this expression, the first term represents the squared bias (that is how much the choice of the family of models we pick differs is able to capture of the measurements we have on average). In the second term, you can recognize the expression of the variance. This second term captures how much the models vary within a particular family of models when we change the subset $D$ on which we learn the models. \n",
    "\n",
    "\n",
    "In this exercise, we will illustrate this decomposition. for a simple regression model on noisy degree $3$ datasets with model of degrees from $0$ to $5$\n",
    "\n",
    "Consider the noisy dataset below. For the sake of the exercise, we will not change the dataset each time when computing the average, but rather just generate new points by changing the noise. "
   ]
  },
  {
   "cell_type": "code",
   "execution_count": 144,
   "metadata": {},
   "outputs": [
    {
     "data": {
      "image/png": "[encoded data removed]",
      "text/plain": [
       "<Figure size 432x288 with 1 Axes>"
      ]
     },
     "metadata": {
      "needs_background": "light"
     },
     "output_type": "display_data"
    }
   ],
   "source": [
    "import numpy as np\n",
    "import matplotlib.pyplot as plt\n",
    "\n",
    "x = np.linspace(-1,1,10)\n",
    "y = x**3 + x**2 + 2*x + 1\n",
    "\n",
    "numTest = 400\n",
    "\n",
    "ynoisy = y +np.random.normal(0,.6,len(x))\n",
    "\n",
    "plt.scatter(x, ynoisy)\n",
    "plt.plot(x, y)\n",
    "plt.show()"
   ]
  },
  {
   "cell_type": "markdown",
   "metadata": {},
   "source": [
    "To represent the three terms (bias, variance and Mean Squared Error) code the following steps \n",
    "\n",
    "__1.__ We will write two nested loops. The first one on the maximum degree of the regression model. The second one on the number of experiments. For each experiments we will generate new points as we did above but with a different noise vector. That is re-use a line of the form ynoisy = y +np.random.normal(0,.6,len(x)) for each XP   \n",
    "\n",
    "\n",
    "__2.__ In each experiment, for each maximum degree of the regression model (0,1,..5), generate the polynomial features up to this degree and learn the regression model on the noisy points with the LinearRegression function from scikit (just use the plain simple synthax : LinearRegression(), no need for any argument and fit the model to the noisy points)\n",
    "\n",
    "\n",
    "__3.__ For each experiment keep track of the models you learn by using the points xprediction below and computing the prediction of the model at those points. Store those predictions in a matrix of size num_MaxDegree x numXP\n",
    "\n",
    "\n",
    "__4.__ Compute each of the three terms (bias, variance and Mean squared error = Bias + variance) by using the expressions given above. \n",
    "\n",
    "\n",
    "__5.__ plot the results"
   ]
  },
  {
   "cell_type": "code",
   "execution_count": 145,
   "metadata": {
    "scrolled": true
   },
   "outputs": [
    {
     "data": {
      "image/png": "[encoded data removed]",
      "text/plain": [
       "<Figure size 432x288 with 1 Axes>"
      ]
     },
     "metadata": {
      "needs_background": "light"
     },
     "output_type": "display_data"
    }
   ],
   "source": [
    "import numpy as np\n",
    "import matplotlib.pyplot as plt\n",
    "\n",
    "x = np.linspace(-1,1,10)\n",
    "y = x**3 + x**2 + 2*x + 1\n",
    "\n",
    "maxDegree = 5\n",
    "numTest = 400\n",
    "\n",
    "from sklearn.linear_model import LinearRegression\n",
    "\n",
    "\n",
    "\n",
    "xprediction = np.linspace(-1,1,100)\n",
    "xprediction = xprediction.reshape((-1,1))  \n",
    "\n",
    "\n",
    "    \n",
    "averagePrediction = np.zeros((len(xprediction),maxDegree))  \n",
    "true = np.zeros((len(xprediction),maxDegree))  \n",
    "variance = np.zeros((len(xprediction),maxDegree))  \n",
    "bias = np.zeros((len(xprediction),maxDegree))  \n",
    "\n",
    "for dmax in np.arange(0,maxDegree):\n",
    "    \n",
    "    ynoisy = np.zeros((len(x),numTest))\n",
    "    predictionTesti = np.zeros((len(xprediction),numTest))\n",
    "\n",
    "    clf = LinearRegression()\n",
    "    \n",
    "    for testi in np.arange(0,numTest):\n",
    "\n",
    "        ynoisy[:,testi] = y +np.random.normal(0,.6,len(x))\n",
    "        \n",
    "        \n",
    "        '''put your code here. Generate the polynomial features up to degree dmax and fit the clf model'''\n",
    "        from sklearn.preprocessing import PolynomialFeatures\n",
    "        x = x.reshape((x.size,1))\n",
    "        quadratic_featurizer = PolynomialFeatures(degree=dmax)\n",
    "        X_train_quadratic = quadratic_featurizer.fit_transform(x)\n",
    "        X_test_quadratic = quadratic_featurizer.transform(xprediction)\n",
    "        \n",
    "        clf.fit(X_train_quadratic,ynoisy[:,testi])\n",
    "\n",
    "        \n",
    "        \n",
    "        \n",
    "        predictionTesti[:,testi] = clf.predict(X_test_quadratic) # fill in the matrix with the predictions from each model\n",
    "        \n",
    "\n",
    "    averagePrediction[:,dmax] = np.mean(predictionTesti,axis = 1) # Compute the average prediction across the XPs\n",
    "    \n",
    "    \n",
    "    centeredPrediction = predictionTesti - np.expand_dims(averagePrediction[:,dmax],axis=1)\n",
    "    \n",
    "    variance[:,dmax] = np.sum(centeredPrediction**2,axis=1)/(centeredPrediction.shape[1]-1) # Compute the variance by averaging over the XP (see expression above)\n",
    "    quadratic_featurizer = PolynomialFeatures(degree=maxDegree)\n",
    "    X_train_quadratic = quadratic_featurizer.fit_transform(x)\n",
    "    X_test_quadratic = quadratic_featurizer.transform(xprediction)\n",
    "    clf.fit(X_train_quadratic,y)\n",
    "    true[:,dmax] =  clf.predict(X_test_quadratic) # compute the prediction from the noiselss model to get the targets of the points in xprediction\n",
    "    \n",
    "    bias[:,dmax] =  np.sum((predictionTesti - np.expand_dims(true[:,dmax],axis=1))**2,axis=1)/(predictionTesti.shape[1]-1)# Compute the bias by averaging over the XP (see expression above)\n",
    "        \n",
    "\n",
    "'''plot the result using the lines below'''        \n",
    "\n",
    "plt.semilogy(np.arange(0,maxDegree), np.mean(bias,axis=0), label='bias')\n",
    "plt.semilogy(np.arange(0,maxDegree), np.mean(variance,axis=0), label = 'variance')\n",
    "plt.semilogy(np.arange(0,maxDegree), np.mean(bias,axis=0).reshape(-1,1) + np.mean(variance,axis=0).reshape(-1,1), label = 'MSE')\n",
    "\n",
    "plt.legend() \n",
    "\n",
    "plt.show()\n",
    "\n",
    "\n",
    "\n"
   ]
  },
  {
   "cell_type": "markdown",
   "metadata": {},
   "source": [
    "Desired result :\n",
    "    \n",
    "<img src=\"desiredResultAssign4.png\" width=\"500\" height=\"300\">"
   ]
  }
 ],
 "metadata": {
  "kernelspec": {
   "display_name": "Python 3",
   "language": "python",
   "name": "python3"
  },
  "language_info": {
   "codemirror_mode": {
    "name": "ipython",
    "version": 3
   },
   "file_extension": ".py",
   "mimetype": "text/x-python",
   "name": "python",
   "nbconvert_exporter": "python",
   "pygments_lexer": "ipython3",
   "version": "3.7.6"
  }
 },
 "nbformat": 4,
 "nbformat_minor": 2
}
