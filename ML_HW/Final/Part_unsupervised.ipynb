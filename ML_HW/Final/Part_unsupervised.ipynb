{
 "cells": [
  {
   "cell_type": "code",
   "execution_count": 1,
   "metadata": {},
   "outputs": [
    {
     "name": "stdout",
     "output_type": "stream",
     "text": [
      "(1797, 64)\n"
     ]
    },
    {
     "data": {
      "image/png": "[encoded data removed]",
      "text/plain": [
       "<Figure size 432x288 with 1 Axes>"
      ]
     },
     "metadata": {
      "needs_background": "light"
     },
     "output_type": "display_data"
    },
    {
     "name": "stdout",
     "output_type": "stream",
     "text": [
      "(364, 64)\n",
      "(364,)\n",
      "[[0.00000000e+00 1.00000000e+00 8.55628022e-03 ... 1.00000000e+00\n",
      "  1.00000000e+00 1.00000000e+00]\n",
      " [1.00000000e+00 0.00000000e+00 1.00000000e+00 ... 4.28842118e-03\n",
      "  3.30615596e-03 2.33727121e-03]\n",
      " [5.56859099e-03 1.00000000e+00 0.00000000e+00 ... 1.00000000e+00\n",
      "  1.00000000e+00 1.00000000e+00]\n",
      " ...\n",
      " [1.00000000e+00 1.00000000e+00 1.00000000e+00 ... 0.00000000e+00\n",
      "  9.82265226e-04 4.20838056e-03]\n",
      " [1.00000000e+00 1.00000000e+00 1.00000000e+00 ... 9.82265226e-04\n",
      "  0.00000000e+00 3.38333043e-03]\n",
      " [1.00000000e+00 1.00000000e+00 1.00000000e+00 ... 1.98424342e-03\n",
      "  1.00197820e-03 0.00000000e+00]]\n",
      "over\n"
     ]
    }
   ],
   "source": [
    "from sklearn import datasets\n",
    "import numpy as np\n",
    "import matplotlib.pyplot as plt\n",
    "from sklearn.metrics import pairwise_distances\n",
    "\n",
    "digits = datasets.load_digits(n_class=10)\n",
    "X = digits.data\n",
    "y = digits.target\n",
    "n_samples, n_features = X.shape\n",
    "print(X.shape)\n",
    "plt.figure()\n",
    "plt.imshow(np.reshape(X[200,:], (8,8)),cmap='gray') \n",
    "plt.show() \n",
    "\n",
    "#only retain the images representing  4  and  3 .\n",
    "xx = []\n",
    "yy = []\n",
    "for i in range(n_samples):\n",
    "    if y[i] == 3 or y[i] == 4:\n",
    "        xx.append(X[i])\n",
    "        yy.append(y[i])\n",
    "xx = np.array(xx)\n",
    "yy = np.array(yy)\n",
    "print(xx.shape)\n",
    "print(yy.shape)\n",
    "N_samples,N_features = xx.shape\n",
    "\n",
    "xx = xx - np.mean(xx,axis=0)\n",
    "D = pairwise_distances(xx)\n",
    "D_square = [[D[i][j]**2 for j in range(len(D[i]))] for i in range(len(D))]\n",
    "D_square = np.array(D_square)\n",
    "temp = np.identity(N_samples) - np.ones((N_samples,N_samples))/N_samples\n",
    "S = np.dot(temp,D_square)\n",
    "S = np.dot(S,temp)\n",
    "S = -1/2 * S\n",
    "\n",
    "\n",
    "#adjcency matrix A\n",
    "K = 5\n",
    "A = np.zeros((N_samples,N_samples))\n",
    "for i in range(N_samples):\n",
    "    index = np.argsort(D[i])\n",
    "    for j in range(K):\n",
    "        A[i][index[j]] = 1\n",
    "\n",
    "#updated adjacency matrix new_A\n",
    "new_A = np.ones((N_samples,N_samples))\n",
    "norm_D = np.linalg.norm(D)\n",
    "for i in range(N_samples):\n",
    "    for j in range(N_samples):\n",
    "        if A[i][j] == 1:\n",
    "            new_A[i][j] = D[i][j] / norm_D\n",
    "#Floyd Warshall algorithm\n",
    "for k in range(N_samples):\n",
    "    for i in range(N_samples):\n",
    "        for j in range(N_samples):\n",
    "            new_A[i][j] = min(new_A[i][j],new_A[i][k] + new_A[k][j])\n",
    "print(new_A)   \n",
    "print(\"over\")"
   ]
  },
  {
   "cell_type": "code",
   "execution_count": 2,
   "metadata": {},
   "outputs": [
    {
     "name": "stdout",
     "output_type": "stream",
     "text": [
      "<class 'numpy.ndarray'>\n",
      "<class 'numpy.ndarray'>\n",
      "[-30.87577432 -21.05846909] [-35.04142089  20.75423328]\n",
      "(2, 364)\n",
      "over\n"
     ]
    },
    {
     "data": {
      "image/png": "[encoded data removed]",
      "text/plain": [
       "<Figure size 432x288 with 1 Axes>"
      ]
     },
     "metadata": {
      "needs_background": "light"
     },
     "output_type": "display_data"
    }
   ],
   "source": [
    "\n",
    "\n",
    "dist_1 = np.zeros((N_samples,1))\n",
    "dist_2 = np.zeros((N_samples,1))\n",
    "print(type(dist_1))\n",
    "print(type(D_square))\n",
    "for i in range(N_samples):\n",
    "    dist_1[i] = new_A[i].sum() / N_samples\n",
    "for j in range(N_samples):\n",
    "    dist_2[j] = new_A.T[j].sum() / N_samples\n",
    "dist = new_A.sum() / (N_samples**2)\n",
    "B = np.zeros((N_samples,N_samples))\n",
    "for i in range(N_samples):\n",
    "    for j in range(N_samples):\n",
    "        B[i][j] = - 1/2 * (D_square[i][j] - dist_1[i] - dist_2[j] + dist)\n",
    "s,v,d = np.linalg.svd(B)\n",
    "I = np.zeros((2,N_samples))\n",
    "I[0][0] = 1\n",
    "I[1][1] = 1\n",
    "first = np.dot(I,np.sqrt(np.diag(v)))\n",
    "z = np.dot(first,d)#low dimension representation of data\n",
    "print(z.T[0],z.T[1])\n",
    "print(z.shape)\n",
    "for i in range(N_samples):\n",
    "    if yy[i] == 3:\n",
    "        plt.scatter(z[0][i],z[1][i],marker='*',c='b')\n",
    "    else:\n",
    "        plt.scatter(z[0][i],z[1][i],marker='v',c='r')\n",
    "print(\"over\")"
   ]
  },
  {
   "cell_type": "code",
   "execution_count": 55,
   "metadata": {},
   "outputs": [
    {
     "name": "stdout",
     "output_type": "stream",
     "text": [
      "(364, 2)\n",
      "start\n",
      "start\n",
      "n_all 364\n",
      "(327, 2)\n",
      "(37, 2)\n",
      "label1 3\n",
      "label2 4\n",
      "<class 'numpy.ndarray'>\n",
      "ok\n",
      "step: 0 [-36.21238403 -30.97933622] [-33.99304588  20.4067935 ]\n",
      "step: 1 [-33.54664922 -22.66476577] [-34.39466751  21.5396871 ]\n",
      "step: 2 [-33.54669337 -22.54799217] [-34.39992155  21.69408248]\n",
      "step: 3 [-33.54669337 -22.54799217] [-34.39992155  21.69408248]\n",
      "step: 4 [-33.54669337 -22.54799217] [-34.39992155  21.69408248]\n",
      "step: 5 [-33.54669337 -22.54799217] [-34.39992155  21.69408248]\n",
      "step: 6 [-33.54669337 -22.54799217] [-34.39992155  21.69408248]\n",
      "step: 7 [-33.54669337 -22.54799217] [-34.39992155  21.69408248]\n",
      "step: 8 [-33.54669337 -22.54799217] [-34.39992155  21.69408248]\n",
      "step: 9 [-33.54669337 -22.54799217] [-34.39992155  21.69408248]\n",
      "****************validation********************\n",
      "[-33.54669337 -22.54799217] [-34.39992155  21.69408248]\n",
      "[-30.87577432 -21.05846909]\n",
      "accuracy 0.9459459459459459\n",
      "over\n"
     ]
    }
   ],
   "source": [
    "#split the data\n",
    "z = z.reshape(-1,2)\n",
    "print(z.shape)\n",
    "n_all = z.shape[0]\n",
    "print(\"start\")\n",
    "print(\"start\")\n",
    "n_train = int(n_all * 0.9)\n",
    "train_data = z[:n_train,:]\n",
    "dev_data = z[n_train:,:]\n",
    "print(\"n_all\",n_all)\n",
    "print(train_data.shape)\n",
    "print(dev_data.shape)\n",
    "\n",
    "#K-means\n",
    "index1 = np.random.randint(n_train)\n",
    "label1 = yy[index1]\n",
    "index2 = np.random.randint(n_train)\n",
    "label2 = yy[index2]\n",
    "while label2 == label1:\n",
    "    label2 = yy[index2]\n",
    "    index2 += 1\n",
    "print(\"label1\",label1)\n",
    "print(\"label2\",label2)\n",
    "iteration_time = 10\n",
    "pred_label = np.zeros(n_train)\n",
    "print(type(train_data[0]))\n",
    "print(\"ok\")\n",
    "\n",
    "center_1 = train_data[index1]\n",
    "center_2 = train_data[index2]\n",
    "#compare distance of vecA and vecB\n",
    "def distEclud(vecA, vecB):\n",
    "    return np.sum(np.power(vecA - vecB, 2))\n",
    "step = 0\n",
    "steps = 10\n",
    "while step < steps:\n",
    "    print(\"step:\",step,center_1,center_2)\n",
    "    count_label1 = 0\n",
    "    count_label2 = 0\n",
    "    for j in range(n_train):#add label to data\n",
    "        dis_c1 = distEclud(center_1,train_data[j])\n",
    "        dis_c2 = distEclud(center_2,train_data[j])\n",
    "        if dis_c1 < dis_c2:\n",
    "            pred_label[j] = label1\n",
    "            count_label1 += 1\n",
    "        else:\n",
    "            pred_label[j] = label2\n",
    "            count_label2 += 1\n",
    "    c1_sum_x = 0\n",
    "    c1_sum_y = 0\n",
    "    c2_sum_x = 0\n",
    "    c2_sum_y = 0\n",
    "    for j in range(n_train):#update centers\n",
    "        if pred_label[j] == label1:\n",
    "            c1_sum_x += train_data[j][0]\n",
    "            c1_sum_y += train_data[j][1]\n",
    "        else:\n",
    "            c2_sum_x += train_data[j][0]\n",
    "            c2_sum_y += train_data[j][1]\n",
    "    center_1 = np.array([c1_sum_x/count_label1,c1_sum_y/count_label1])\n",
    "    center_2 = np.array([c2_sum_x/count_label2,c2_sum_y/count_label2])\n",
    "    step += 1\n",
    "\n",
    "\n",
    "print(\"****************validation********************\")\n",
    "print(center_1,center_2)\n",
    "print(train_data[0])\n",
    "#validation\n",
    "count_correct = 0\n",
    "for i in range(n_all - n_train):\n",
    "    if distEclud(dev_data[i],center_1) >= distEclud(dev_data[i],center_2) and yy[n_train + i] == label2:\n",
    "        count_correct += 1\n",
    "    elif distEclud(dev_data[i],center_1) < distEclud(dev_data[i],center_2) and yy[n_train + i] == label1:\n",
    "        count_correct += 1\n",
    "accuracy = count_correct / (n_all - n_train)\n",
    "print(\"accuracy\",accuracy)\n",
    "print(\"over\")"
   ]
  },
  {
   "cell_type": "code",
   "execution_count": null,
   "metadata": {},
   "outputs": [],
   "source": []
  }
 ],
 "metadata": {
  "kernelspec": {
   "display_name": "Python 3",
   "language": "python",
   "name": "python3"
  },
  "language_info": {
   "codemirror_mode": {
    "name": "ipython",
    "version": 3
   },
   "file_extension": ".py",
   "mimetype": "text/x-python",
   "name": "python",
   "nbconvert_exporter": "python",
   "pygments_lexer": "ipython3",
   "version": "3.7.6"
  }
 },
 "nbformat": 4,
 "nbformat_minor": 4
}
